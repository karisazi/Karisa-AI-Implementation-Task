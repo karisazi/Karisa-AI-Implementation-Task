{
 "cells": [
  {
   "cell_type": "markdown",
   "id": "f6e98653",
   "metadata": {},
   "source": [
    "ganti ke\n",
    "gemini-2.5-pro\n",
    "klo ingat"
   ]
  },
  {
   "cell_type": "code",
   "execution_count": 75,
   "id": "ae8f8c7e",
   "metadata": {},
   "outputs": [],
   "source": [
    "import pandas as pd\n",
    "from dotenv import load_dotenv\n",
    "load_dotenv()\n",
    "import google.generativeai as genai\n",
    "import os"
   ]
  },
  {
   "cell_type": "code",
   "execution_count": 76,
   "id": "01ba45ee",
   "metadata": {},
   "outputs": [
    {
     "name": "stdout",
     "output_type": "stream",
     "text": [
      "(500, 2)\n"
     ]
    },
    {
     "data": {
      "text/html": [
       "<div>\n",
       "<style scoped>\n",
       "    .dataframe tbody tr th:only-of-type {\n",
       "        vertical-align: middle;\n",
       "    }\n",
       "\n",
       "    .dataframe tbody tr th {\n",
       "        vertical-align: top;\n",
       "    }\n",
       "\n",
       "    .dataframe thead th {\n",
       "        text-align: right;\n",
       "    }\n",
       "</style>\n",
       "<table border=\"1\" class=\"dataframe\">\n",
       "  <thead>\n",
       "    <tr style=\"text-align: right;\">\n",
       "      <th></th>\n",
       "      <th>name</th>\n",
       "      <th>feedback</th>\n",
       "    </tr>\n",
       "  </thead>\n",
       "  <tbody>\n",
       "    <tr>\n",
       "      <th>0</th>\n",
       "      <td>christina</td>\n",
       "      <td>They look good and stick good! I just don't li...</td>\n",
       "    </tr>\n",
       "    <tr>\n",
       "      <th>1</th>\n",
       "      <td>emily l.</td>\n",
       "      <td>These stickers work like the review says they ...</td>\n",
       "    </tr>\n",
       "    <tr>\n",
       "      <th>2</th>\n",
       "      <td>Erica</td>\n",
       "      <td>These are awesome and make my phone look so st...</td>\n",
       "    </tr>\n",
       "    <tr>\n",
       "      <th>3</th>\n",
       "      <td>JM</td>\n",
       "      <td>Item arrived in great time and was in perfect ...</td>\n",
       "    </tr>\n",
       "    <tr>\n",
       "      <th>4</th>\n",
       "      <td>patrice m rogoza</td>\n",
       "      <td>awesome! stays on, and looks great. can be use...</td>\n",
       "    </tr>\n",
       "  </tbody>\n",
       "</table>\n",
       "</div>"
      ],
      "text/plain": [
       "               name                                           feedback\n",
       "0         christina  They look good and stick good! I just don't li...\n",
       "1          emily l.  These stickers work like the review says they ...\n",
       "2             Erica  These are awesome and make my phone look so st...\n",
       "3                JM  Item arrived in great time and was in perfect ...\n",
       "4  patrice m rogoza  awesome! stays on, and looks great. can be use..."
      ]
     },
     "execution_count": 76,
     "metadata": {},
     "output_type": "execute_result"
    }
   ],
   "source": [
    "df = pd.read_json('customer_feedback.json', lines=True)\n",
    "print(df.shape)\n",
    "df.head()"
   ]
  },
  {
   "cell_type": "code",
   "execution_count": 77,
   "id": "a940c094",
   "metadata": {},
   "outputs": [
    {
     "data": {
      "text/plain": [
       "\"They look good and stick good! I just don't like the rounded shape because I was always bumping it and Siri kept popping up and it was irritating. I just won't buy a product like this again\""
      ]
     },
     "execution_count": 77,
     "metadata": {},
     "output_type": "execute_result"
    }
   ],
   "source": [
    "df.feedback[0]"
   ]
  },
  {
   "cell_type": "code",
   "execution_count": 78,
   "id": "50d2a221",
   "metadata": {},
   "outputs": [],
   "source": [
    "genai.configure(api_key=os.getenv(\"GOOGLE_API_KEY\"))"
   ]
  },
  {
   "cell_type": "code",
   "execution_count": 79,
   "id": "1c3d3279",
   "metadata": {},
   "outputs": [
    {
     "name": "stdout",
     "output_type": "stream",
     "text": [
      "sum1\n"
     ]
    }
   ],
   "source": [
    "apa=1\n",
    "print(f'sum{apa}')"
   ]
  },
  {
   "cell_type": "code",
   "execution_count": 80,
   "id": "5f51bcb4",
   "metadata": {},
   "outputs": [],
   "source": [
    "def generate_gemini_content(feedback_text, num_words=5):\n",
    "    prompt=f'''You are Customer Feedback summarizer. You will be taking the feedback text\n",
    "                and summarizing the entire text and providing the important summary\n",
    "                within {num_words} words. Please provide the 5 words summary of the text given here: '''\n",
    "                \n",
    "\n",
    "    model=genai.GenerativeModel(\"gemini-2.5-flash\")\n",
    "    response=model.generate_content(prompt+feedback_text)\n",
    "    return response.text"
   ]
  },
  {
   "cell_type": "code",
   "execution_count": 81,
   "id": "a3cf37ea",
   "metadata": {},
   "outputs": [
    {
     "data": {
      "text/plain": [
       "'Rounded design caused frustrating Siri.'"
      ]
     },
     "execution_count": 81,
     "metadata": {},
     "output_type": "execute_result"
    }
   ],
   "source": [
    "generate_gemini_content(df.feedback[0])"
   ]
  },
  {
   "cell_type": "code",
   "execution_count": 82,
   "id": "1a91418d",
   "metadata": {},
   "outputs": [
    {
     "data": {
      "text/plain": [
       "'These stickers work like the review says they do. They stick on great and they stay on the phone. They are super stylish and I can share them with my sister. :)'"
      ]
     },
     "execution_count": 82,
     "metadata": {},
     "output_type": "execute_result"
    }
   ],
   "source": [
    "df.feedback[1]"
   ]
  },
  {
   "cell_type": "code",
   "execution_count": 83,
   "id": "7b999fbb",
   "metadata": {},
   "outputs": [
    {
     "data": {
      "text/plain": [
       "'Great adhesion, stylish, shareable stickers.'"
      ]
     },
     "execution_count": 83,
     "metadata": {},
     "output_type": "execute_result"
    }
   ],
   "source": [
    "generate_gemini_content(df.feedback[1])"
   ]
  },
  {
   "cell_type": "code",
   "execution_count": null,
   "id": "39af11ae",
   "metadata": {},
   "outputs": [],
   "source": [
    "df['summary'] = df['feedback'].apply(generate_gemini_content)"
   ]
  },
  {
   "cell_type": "code",
   "execution_count": null,
   "id": "e75f67fe",
   "metadata": {},
   "outputs": [],
   "source": [
    "df.head()"
   ]
  }
 ],
 "metadata": {
  "kernelspec": {
   "display_name": "Python (llm_env)",
   "language": "python",
   "name": "llm_env"
  },
  "language_info": {
   "codemirror_mode": {
    "name": "ipython",
    "version": 3
   },
   "file_extension": ".py",
   "mimetype": "text/x-python",
   "name": "python",
   "nbconvert_exporter": "python",
   "pygments_lexer": "ipython3",
   "version": "3.10.18"
  }
 },
 "nbformat": 4,
 "nbformat_minor": 5
}
